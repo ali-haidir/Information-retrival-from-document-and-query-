{
 "cells": [
  {
   "cell_type": "code",
   "execution_count": 1,
   "metadata": {},
   "outputs": [
    {
     "name": "stdout",
     "output_type": "stream",
     "text": [
      "Enter your query : batman is good\n"
     ]
    }
   ],
   "source": [
    "from sklearn.feature_extraction.text import TfidfVectorizer\n",
    "\n",
    "d1 = \"Batman ventures into Gotham City's.\"\n",
    "\n",
    "d2 = \"Will Smith batman good movie apologised to Chris Rock after he slapped him at the Oscars, saying his behaviour was unacceptable and inexcusable.\"\n",
    "\n",
    "d3 =\"Islamabad: National Assembly Deputy Speaker Qasim Khan Suri on Sunday dismissed the no-trust move against Prime Minister Imran Khan ruling that the motion is against Article 5 of the Constitu,tion.\"\n",
    "\n",
    "d4= \"Dr Stephen Strange casts a forbidden spell that opens a portal to the multiverse. However, a threat emerges that may be too big for his team to handle.\"\n",
    "\n",
    "d5 = \"DC vs. Marvel was a comic movie miniseries crossover published by DC Comics and Marvel Comics from April to May 1996. Each company would publish two issues of the series, thus the title difference between issues #1 and 4 as DC vs. Marvel from DC and issues #2–3 from Marvel as Marvel vs. DC.\"\n",
    "\n",
    "d6 = \"The Batman is a 2022 American goood superhero film.  \"\n",
    "\n",
    "d7 = \"bruno scoby are 2 my dogs\"\n",
    "\n",
    "d8 = \"Benedict Timothy Carlton Cumberbatch CBE is an English actor. Known for his roles on the screen and stage, he has received various accolades throughout his career, including a British Academy Television\"\n",
    "\n",
    "d9 =\"Renowned for their pan- African presence and with a reputation for delivering world-class Digital CustorT\" \n",
    "\n",
    "d10 =\"batman is a goood movie\"\n",
    "\n",
    "query = input(\"Enter your query : \")\n",
    "\n",
    "\n",
    "\n"
   ]
  },
  {
   "cell_type": "code",
   "execution_count": 4,
   "metadata": {},
   "outputs": [
    {
     "name": "stdout",
     "output_type": "stream",
     "text": [
      "vec = TfidfVectorizer(analyzer='word', binary=False, decode_error='strict',\n",
      "                dtype=<class 'numpy.float64'>, encoding='utf-8',\n",
      "                input='content', lowercase=True, max_df=1.0, max_features=None,\n",
      "                min_df=1, ngram_range=(1, 1), norm='l2', preprocessor=None,\n",
      "                smooth_idf=True, stop_words='english', strip_accents=None,\n",
      "                sublinear_tf=False, token_pattern='(?u)\\\\b\\\\w\\\\w+\\\\b',\n",
      "                tokenizer=None, use_idf=True, vocabulary=None)\n",
      "matrix =   (0, 22)\t0.5449111174124822\n",
      "  (0, 45)\t0.5449111174124822\n",
      "  (0, 99)\t0.5449111174124822\n",
      "  (0, 11)\t0.33047786969907705\n",
      "  (1, 49)\t0.2928095468875581\n",
      "  (1, 97)\t0.2928095468875581\n",
      "  (1, 12)\t0.2928095468875581\n",
      "  (1, 76)\t0.2928095468875581\n",
      "  (1, 62)\t0.2928095468875581\n",
      "  (1, 80)\t0.2928095468875581\n",
      "  (1, 73)\t0.2928095468875581\n",
      "  (1, 21)\t0.2928095468875581\n",
      "  (1, 7)\t0.2928095468875581\n",
      "  (1, 58)\t0.22010983399923176\n",
      "  (1, 43)\t0.2502829410346927\n",
      "  (1, 81)\t0.2928095468875581\n",
      "  (1, 11)\t0.1775832281463663\n",
      "  (2, 94)\t0.21320071635561047\n",
      "  (2, 27)\t0.21320071635561047\n",
      "  (2, 9)\t0.21320071635561047\n",
      "  (2, 57)\t0.21320071635561047\n",
      "  (2, 75)\t0.21320071635561047\n",
      "  (2, 47)\t0.21320071635561047\n",
      "  (2, 56)\t0.21320071635561047\n",
      "  (2, 66)\t0.21320071635561047\n",
      "  :\t:\n",
      "  (7, 78)\t0.22941573387056177\n",
      "  (7, 74)\t0.22941573387056177\n",
      "  (7, 53)\t0.22941573387056177\n",
      "  (7, 4)\t0.22941573387056177\n",
      "  (7, 40)\t0.22941573387056177\n",
      "  (7, 20)\t0.22941573387056177\n",
      "  (7, 29)\t0.22941573387056177\n",
      "  (7, 18)\t0.22941573387056177\n",
      "  (7, 93)\t0.22941573387056177\n",
      "  (7, 13)\t0.22941573387056177\n",
      "  (8, 30)\t0.31622776601683794\n",
      "  (8, 35)\t0.31622776601683794\n",
      "  (8, 23)\t0.31622776601683794\n",
      "  (8, 101)\t0.31622776601683794\n",
      "  (8, 32)\t0.31622776601683794\n",
      "  (8, 72)\t0.31622776601683794\n",
      "  (8, 65)\t0.31622776601683794\n",
      "  (8, 5)\t0.31622776601683794\n",
      "  (8, 63)\t0.31622776601683794\n",
      "  (8, 71)\t0.31622776601683794\n",
      "  (9, 44)\t0.6627234935308801\n",
      "  (9, 58)\t0.5828282085284154\n",
      "  (9, 11)\t0.47022212885590925\n",
      "  (10, 43)\t0.8155639275319199\n",
      "  (10, 11)\t0.5786669855009094\n"
     ]
    },
    {
     "data": {
      "text/plain": [
       "array([[0.        , 0.        , 0.        , ..., 0.54491112, 0.        ,\n",
       "        0.        ],\n",
       "       [0.        , 0.        , 0.        , ..., 0.        , 0.        ,\n",
       "        0.        ],\n",
       "       [0.        , 0.        , 0.        , ..., 0.        , 0.        ,\n",
       "        0.        ],\n",
       "       ...,\n",
       "       [0.        , 0.        , 0.        , ..., 0.        , 0.        ,\n",
       "        0.31622777],\n",
       "       [0.        , 0.        , 0.        , ..., 0.        , 0.        ,\n",
       "        0.        ],\n",
       "       [0.        , 0.        , 0.        , ..., 0.        , 0.        ,\n",
       "        0.        ]])"
      ]
     },
     "execution_count": 4,
     "metadata": {},
     "output_type": "execute_result"
    }
   ],
   "source": [
    "def doc_tfidf():\n",
    "    doc_corpus=[d1,d2,d3,d4,d5,d6,d7,d8,d9,d10,query]\n",
    "  \n",
    "    length = len(doc_corpus) - 1\n",
    "    vec = TfidfVectorizer(stop_words = \"english\")\n",
    "    print(\"vec =\",vec)\n",
    "    matrix = vec.fit_transform(doc_corpus)\n",
    "    print(\"matrix =\",matrix)\n",
    "    x = matrix.toarray()\n",
    "    return x\n",
    "doc_tfidf()"
   ]
  },
  {
   "cell_type": "code",
   "execution_count": 2,
   "metadata": {},
   "outputs": [],
   "source": [
    "\n",
    "def doc_tfidf():\n",
    "    doc_corpus=[d1,d2,d3,d4,d5,d6,d7,d8,d9,d10,query]\n",
    "  \n",
    "    length = len(doc_corpus) - 1\n",
    "    vec = TfidfVectorizer(stop_words = \"english\")\n",
    "    matrix = vec.fit_transform(doc_corpus)\n",
    "    x = matrix.toarray()\n",
    "    return x\n",
    "\n"
   ]
  },
  {
   "cell_type": "code",
   "execution_count": 3,
   "metadata": {
    "scrolled": true
   },
   "outputs": [
    {
     "data": {
      "text/plain": [
       "array([[0.        , 0.        , 0.        , ..., 0.54491112, 0.        ,\n",
       "        0.        ],\n",
       "       [0.        , 0.        , 0.        , ..., 0.        , 0.        ,\n",
       "        0.        ],\n",
       "       [0.        , 0.        , 0.        , ..., 0.        , 0.        ,\n",
       "        0.        ],\n",
       "       ...,\n",
       "       [0.        , 0.        , 0.        , ..., 0.        , 0.        ,\n",
       "        0.31622777],\n",
       "       [0.        , 0.        , 0.        , ..., 0.        , 0.        ,\n",
       "        0.        ],\n",
       "       [0.        , 0.        , 0.        , ..., 0.        , 0.        ,\n",
       "        0.        ]])"
      ]
     },
     "execution_count": 3,
     "metadata": {},
     "output_type": "execute_result"
    }
   ],
   "source": [
    "doc_tfidf()\n"
   ]
  },
  {
   "cell_type": "code",
   "execution_count": 4,
   "metadata": {},
   "outputs": [],
   "source": [
    "# query =\"batman is a good movie\"\n",
    "# def query_tfidf(query):\n",
    "#     query_corpus=[query]\n",
    "#     vec = TfidfVectorizer(stop_words = \"english\")\n",
    "#     matrix = vec.fit_transform(query_corpus)\n",
    "# #     print( \"Features name = \", vec.get_feature_names())\n",
    "# #     print(\"square matrix : \")\n",
    "# #     print(matrix.toarray())\n",
    "#     x = matrix.toarray()\n",
    "#     return x\n",
    "\n",
    "# query_tfidf(query)\n",
    "    "
   ]
  },
  {
   "cell_type": "code",
   "execution_count": null,
   "metadata": {},
   "outputs": [],
   "source": []
  },
  {
   "cell_type": "code",
   "execution_count": 5,
   "metadata": {},
   "outputs": [],
   "source": [
    "# hellper function\n",
    "\n",
    "# create dictionary func.\n",
    "def create_dictionary(keys, values):\n",
    "    result = {} # empty dictionary\n",
    "    for key, value in zip(keys, values):\n",
    "        result[key] = value\n",
    "    return result\n",
    "\n",
    "# sort dictonary function\n",
    "def sort_dictionary(d):\n",
    "    d = sorted(d.items(), key=lambda x:x[1], reverse=True)\n",
    "    print(d)\n",
    "    return d\n",
    "\n",
    "\n",
    "def printing(x):\n",
    "    print(\"These documents are ranked from most relevent to least relevent  \\n This given below is sorted in terms of cosin angles\")\n",
    "        \n",
    "    \n",
    "\n"
   ]
  },
  {
   "cell_type": "code",
   "execution_count": null,
   "metadata": {},
   "outputs": [],
   "source": []
  },
  {
   "cell_type": "code",
   "execution_count": null,
   "metadata": {},
   "outputs": [],
   "source": []
  },
  {
   "cell_type": "code",
   "execution_count": null,
   "metadata": {},
   "outputs": [],
   "source": []
  },
  {
   "cell_type": "code",
   "execution_count": null,
   "metadata": {},
   "outputs": [],
   "source": []
  },
  {
   "cell_type": "code",
   "execution_count": 6,
   "metadata": {},
   "outputs": [],
   "source": [
    "doc_corpus_string = [\"d1\",\"d2\",\"d3\",\"d4\",\"d5\",\"d6\",\"d7\",\"d8\",\"d9\",\"d10\"]\n",
    "def cosin_similarity(x):\n",
    "    list1 = []\n",
    "    angle_list = []\n",
    "    multiply = 0\n",
    "    doc_matrix = doc_tfidf()\n",
    "    length = len(doc_matrix) -1\n",
    "    query_matrix = doc_matrix[length]\n",
    "    features_length = len(query_matrix)\n",
    "    for i in range(0,length):\n",
    "        for j in range(0,features_length):\n",
    "            multiply += doc_matrix[i][j] * query_matrix[j]     \n",
    "        list1.append(multiply)\n",
    "        multiply = 0\n",
    "    \n",
    "    dictonary = create_dictionary(x,list1)\n",
    "    printing(dictonary)\n",
    "    sort_dictionary(dictonary)\n",
    "    \n",
    "    \n",
    "    \n",
    "\n",
    "    \n",
    "        \n",
    "    \n",
    "        \n",
    "        \n"
   ]
  },
  {
   "cell_type": "code",
   "execution_count": 7,
   "metadata": {},
   "outputs": [
    {
     "name": "stdout",
     "output_type": "stream",
     "text": [
      "These documents are ranked from most relevent to least relevent  \n",
      " This given below is sorted in terms of cosin angles\n",
      "[('d10', 1.0), ('d6', 0.3570128426379887), ('d2', 0.20251381419406556), ('d1', 0.17035720588540376), ('d5', 0.04199025634258524), ('d3', 0.0), ('d4', 0.0), ('d7', 0.0), ('d8', 0.0), ('d9', 0.0)]\n"
     ]
    }
   ],
   "source": [
    "cosin_similarity(doc_corpus_string)"
   ]
  },
  {
   "cell_type": "code",
   "execution_count": null,
   "metadata": {},
   "outputs": [],
   "source": []
  },
  {
   "cell_type": "code",
   "execution_count": null,
   "metadata": {},
   "outputs": [],
   "source": []
  },
  {
   "cell_type": "code",
   "execution_count": null,
   "metadata": {},
   "outputs": [],
   "source": []
  },
  {
   "cell_type": "code",
   "execution_count": null,
   "metadata": {},
   "outputs": [],
   "source": []
  },
  {
   "cell_type": "code",
   "execution_count": null,
   "metadata": {},
   "outputs": [],
   "source": []
  },
  {
   "cell_type": "code",
   "execution_count": null,
   "metadata": {},
   "outputs": [],
   "source": []
  },
  {
   "cell_type": "code",
   "execution_count": null,
   "metadata": {},
   "outputs": [],
   "source": []
  }
 ],
 "metadata": {
  "kernelspec": {
   "display_name": "Python 3",
   "language": "python",
   "name": "python3"
  },
  "language_info": {
   "codemirror_mode": {
    "name": "ipython",
    "version": 3
   },
   "file_extension": ".py",
   "mimetype": "text/x-python",
   "name": "python",
   "nbconvert_exporter": "python",
   "pygments_lexer": "ipython3",
   "version": "3.7.6"
  }
 },
 "nbformat": 4,
 "nbformat_minor": 4
}
