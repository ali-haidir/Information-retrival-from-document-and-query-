{
 "cells": [
  {
   "cell_type": "code",
   "execution_count": 54,
   "metadata": {},
   "outputs": [],
   "source": [
    "from sklearn.feature_extraction.text import TfidfVectorizer\n",
    "\n",
    "d1 = \"Batman ventures into Gotham City's.\"\n",
    "\n",
    "d2 = \"Will Smith batman good movie apologised to Chris Rock after he slapped him at the Oscars, saying his behaviour was unacceptable and inexcusable.\"\n",
    "\n",
    "d3 =\"Islamabad: National Assembly Deputy Speaker Qasim Khan Suri on Sunday dismissed the no-trust move against Prime Minister Imran Khan ruling that the motion is against Article 5 of the Constitu,tion.\"\n",
    "\n",
    "d4= \"Dr Stephen Strange casts a forbidden spell that opens a portal to the multiverse. However, a threat emerges that may be too big for his team to handle.\"\n",
    "\n",
    "d5 = \"DC vs. Marvel was a comic movie miniseries crossover published by DC Comics and Marvel Comics from April to May 1996. Each company would publish two issues of the series, thus the title difference between issues #1 and 4 as DC vs. Marvel from DC and issues #2–3 from Marvel as Marvel vs. DC.\"\n",
    "\n",
    "d6 = \"The Batman is a 2022 American goood superhero film.  \"\n",
    "\n",
    "d7 = \"bruno scoby are 2 my dogs\"\n",
    "\n",
    "d8 = \"Benedict Timothy Carlton Cumberbatch CBE is an English actor. Known for his roles on the screen and stage, he has received various accolades throughout his career, including a British Academy Television\"\n",
    "\n",
    "d9 =\"Renowned for their pan- African presence and with a reputation for delivering world-class Digital CustorT\" \n",
    "\n",
    "d10 =\"batman is a goood movie\"\n",
    "\n",
    "#query = input(\"Enter your query : \")\n",
    "query = \"Batman is a goood movie\"\n",
    "\n",
    "doc_corpuss = [\"d1\",\"d2\",\"d3\",\"d4\",\"d5\",\"d6\",\"d7\",\"d8\",\"d9\",\"d10\"]\n"
   ]
  },
  {
   "cell_type": "code",
   "execution_count": 55,
   "metadata": {},
   "outputs": [],
   "source": [
    "\n",
    "def doc_tfidf():\n",
    "    doc_corpus=[d1,d2,d3,d4,d5,d6,d7,d8,d9,d10,query]\n",
    "    vec = TfidfVectorizer(stop_words = \"english\")\n",
    "    matrix = vec.fit_transform(doc_corpus)\n",
    "    print(\"sparse matrix \\n\",matrix.shape,\"\\n\", matrix.toarray())\n",
    "    a = matrix.toarray()\n",
    "    return a\n",
    "\n"
   ]
  },
  {
   "cell_type": "code",
   "execution_count": 56,
   "metadata": {},
   "outputs": [],
   "source": [
    "# matrix_a = doc_tfidf()"
   ]
  },
  {
   "cell_type": "code",
   "execution_count": null,
   "metadata": {},
   "outputs": [],
   "source": []
  },
  {
   "cell_type": "code",
   "execution_count": 57,
   "metadata": {},
   "outputs": [],
   "source": [
    "\n",
    "def cosin_similarity(x):\n",
    "    angles = []\n",
    "    angle_list = []\n",
    "    matrix = doc_tfidf()\n",
    "    size = len(matrix) -1\n",
    "    query_matrix = matrix[size]\n",
    "    querySize = len(query_matrix)\n",
    "    counter = 0\n",
    "    result = 0\n",
    "    while counter <= size-1:\n",
    "        \n",
    "        \n",
    "        for i in range(0,querySize):\n",
    "            result += matrix[counter][i] * query_matrix[i] \n",
    "            \n",
    "        \n",
    "        angles.append(result)\n",
    "        counter +=1\n",
    "        result = 0\n",
    "\n",
    "    result2 = {} # empty dictionary\n",
    "    for m, k in zip(doc_corpuss, angles):\n",
    "        result2[m] = k\n",
    "   \n",
    "    print(\"Ranked Rsults: \\n\")\n",
    "    result3 = sorted(result2.items(), key=lambda x:x[1], reverse=True)\n",
    "    print(result3)\n",
    "    return result3\n",
    "\n",
    "    \n",
    "        \n",
    "    \n",
    "        \n",
    "        \n"
   ]
  },
  {
   "cell_type": "code",
   "execution_count": 58,
   "metadata": {},
   "outputs": [
    {
     "name": "stdout",
     "output_type": "stream",
     "text": [
      "sparse matrix \n",
      " (11, 102) \n",
      " [[0.         0.         0.         ... 0.54491112 0.         0.        ]\n",
      " [0.         0.         0.         ... 0.         0.         0.        ]\n",
      " [0.         0.         0.         ... 0.         0.         0.        ]\n",
      " ...\n",
      " [0.         0.         0.         ... 0.         0.         0.31622777]\n",
      " [0.         0.         0.         ... 0.         0.         0.        ]\n",
      " [0.         0.         0.         ... 0.         0.         0.        ]]\n",
      "Ranked Rsults: \n",
      "\n",
      "[('d10', 1.0), ('d6', 0.3570128426379887), ('d2', 0.20251381419406556), ('d1', 0.17035720588540376), ('d5', 0.04199025634258524), ('d3', 0.0), ('d4', 0.0), ('d7', 0.0), ('d8', 0.0), ('d9', 0.0)]\n"
     ]
    },
    {
     "data": {
      "text/plain": [
       "[('d10', 1.0),\n",
       " ('d6', 0.3570128426379887),\n",
       " ('d2', 0.20251381419406556),\n",
       " ('d1', 0.17035720588540376),\n",
       " ('d5', 0.04199025634258524),\n",
       " ('d3', 0.0),\n",
       " ('d4', 0.0),\n",
       " ('d7', 0.0),\n",
       " ('d8', 0.0),\n",
       " ('d9', 0.0)]"
      ]
     },
     "execution_count": 58,
     "metadata": {},
     "output_type": "execute_result"
    }
   ],
   "source": [
    "cosin_similarity(doc_corpuss)"
   ]
  },
  {
   "cell_type": "code",
   "execution_count": null,
   "metadata": {},
   "outputs": [],
   "source": []
  },
  {
   "cell_type": "code",
   "execution_count": null,
   "metadata": {},
   "outputs": [],
   "source": []
  }
 ],
 "metadata": {
  "kernelspec": {
   "display_name": "Python 3",
   "language": "python",
   "name": "python3"
  },
  "language_info": {
   "codemirror_mode": {
    "name": "ipython",
    "version": 3
   },
   "file_extension": ".py",
   "mimetype": "text/x-python",
   "name": "python",
   "nbconvert_exporter": "python",
   "pygments_lexer": "ipython3",
   "version": "3.8.5"
  }
 },
 "nbformat": 4,
 "nbformat_minor": 4
}
